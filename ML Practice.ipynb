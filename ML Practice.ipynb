{
 "cells": [
  {
   "cell_type": "code",
   "execution_count": 1,
   "metadata": {
    "scrolled": true
   },
   "outputs": [
    {
     "data": {
      "text/html": [
       "<div>\n",
       "<style scoped>\n",
       "    .dataframe tbody tr th:only-of-type {\n",
       "        vertical-align: middle;\n",
       "    }\n",
       "\n",
       "    .dataframe tbody tr th {\n",
       "        vertical-align: top;\n",
       "    }\n",
       "\n",
       "    .dataframe thead th {\n",
       "        text-align: right;\n",
       "    }\n",
       "</style>\n",
       "<table border=\"1\" class=\"dataframe\">\n",
       "  <thead>\n",
       "    <tr style=\"text-align: right;\">\n",
       "      <th></th>\n",
       "      <th>company</th>\n",
       "      <th>education</th>\n",
       "      <th>experience</th>\n",
       "      <th>industry</th>\n",
       "      <th>jobdescription</th>\n",
       "      <th>jobid</th>\n",
       "      <th>joblocation_address</th>\n",
       "      <th>jobtitle</th>\n",
       "      <th>numberofpositions</th>\n",
       "      <th>payrate</th>\n",
       "      <th>postdate</th>\n",
       "      <th>site_name</th>\n",
       "      <th>skills</th>\n",
       "      <th>uniq_id</th>\n",
       "    </tr>\n",
       "  </thead>\n",
       "  <tbody>\n",
       "    <tr>\n",
       "      <td>0</td>\n",
       "      <td>MM Media Pvt Ltd</td>\n",
       "      <td>UG: B.Tech/B.E. - Any Specialization PG:Any Po...</td>\n",
       "      <td>0 - 1 yrs</td>\n",
       "      <td>Media / Entertainment / Internet</td>\n",
       "      <td>Job Description   Send me Jobs like this Quali...</td>\n",
       "      <td>210516002263</td>\n",
       "      <td>Chennai</td>\n",
       "      <td>Walkin Data Entry Operator (night Shift)</td>\n",
       "      <td>NaN</td>\n",
       "      <td>1,50,000 - 2,25,000 P.A</td>\n",
       "      <td>2016-05-21 19:30:00 +0000</td>\n",
       "      <td>NaN</td>\n",
       "      <td>ITES</td>\n",
       "      <td>43b19632647068535437c774b6ca6cf8</td>\n",
       "    </tr>\n",
       "    <tr>\n",
       "      <td>1</td>\n",
       "      <td>find live infotech</td>\n",
       "      <td>UG: B.Tech/B.E. - Any Specialization PG:MBA/PG...</td>\n",
       "      <td>0 - 0 yrs</td>\n",
       "      <td>Advertising / PR / MR / Event Management</td>\n",
       "      <td>Job Description   Send me Jobs like this Quali...</td>\n",
       "      <td>210516002391</td>\n",
       "      <td>Chennai</td>\n",
       "      <td>Work Based Onhome Based Part Time.</td>\n",
       "      <td>60.0</td>\n",
       "      <td>1,50,000 - 2,50,000 P.A. 20000</td>\n",
       "      <td>2016-05-21 19:30:00 +0000</td>\n",
       "      <td>NaN</td>\n",
       "      <td>Marketing</td>\n",
       "      <td>d4c72325e57f89f364812b5ed5a795f0</td>\n",
       "    </tr>\n",
       "    <tr>\n",
       "      <td>2</td>\n",
       "      <td>Softtech Career Infosystem Pvt. Ltd</td>\n",
       "      <td>UG: Any Graduate - Any Specialization PG:Any P...</td>\n",
       "      <td>4 - 8 yrs</td>\n",
       "      <td>IT-Software / Software Services</td>\n",
       "      <td>Job Description   Send me Jobs like this - as ...</td>\n",
       "      <td>101016900534</td>\n",
       "      <td>Bengaluru</td>\n",
       "      <td>Pl/sql Developer - SQL</td>\n",
       "      <td>NaN</td>\n",
       "      <td>Not Disclosed by Recruiter</td>\n",
       "      <td>2016-10-13 16:20:55 +0000</td>\n",
       "      <td>NaN</td>\n",
       "      <td>IT Software - Application Programming</td>\n",
       "      <td>c47df6f4cfdf5b46f1fd713ba61b9eba</td>\n",
       "    </tr>\n",
       "    <tr>\n",
       "      <td>3</td>\n",
       "      <td>Onboard HRServices LLP</td>\n",
       "      <td>UG: Any Graduate - Any Specialization PG:CA Do...</td>\n",
       "      <td>11 - 15 yrs</td>\n",
       "      <td>Banking / Financial Services / Broking</td>\n",
       "      <td>Job Description   Send me Jobs like this - Inv...</td>\n",
       "      <td>81016900536</td>\n",
       "      <td>Mumbai, Bengaluru, Kolkata, Chennai, Coimbator...</td>\n",
       "      <td>Manager/ad/partner - Indirect Tax - CA</td>\n",
       "      <td>NaN</td>\n",
       "      <td>Not Disclosed by Recruiter</td>\n",
       "      <td>2016-10-13 16:20:55 +0000</td>\n",
       "      <td>NaN</td>\n",
       "      <td>Accounts</td>\n",
       "      <td>115d28f140f694dd1cc61c53d03c66ae</td>\n",
       "    </tr>\n",
       "    <tr>\n",
       "      <td>4</td>\n",
       "      <td>Spire Technologies and Solutions Pvt. Ltd.</td>\n",
       "      <td>UG: B.Tech/B.E. - Any Specialization PG:Any Po...</td>\n",
       "      <td>6 - 8 yrs</td>\n",
       "      <td>IT-Software / Software Services</td>\n",
       "      <td>Job Description   Send me Jobs like this Pleas...</td>\n",
       "      <td>120916002122</td>\n",
       "      <td>Bengaluru</td>\n",
       "      <td>JAVA Technical Lead (6-8 yrs) -</td>\n",
       "      <td>4.0</td>\n",
       "      <td>Not Disclosed by Recruiter</td>\n",
       "      <td>2016-10-13 16:20:55 +0000</td>\n",
       "      <td>NaN</td>\n",
       "      <td>IT Software - Application Programming</td>\n",
       "      <td>a12553fc03bc7bcced8b1bb8963f97b4</td>\n",
       "    </tr>\n",
       "  </tbody>\n",
       "</table>\n",
       "</div>"
      ],
      "text/plain": [
       "                                      company  \\\n",
       "0                            MM Media Pvt Ltd   \n",
       "1                          find live infotech   \n",
       "2         Softtech Career Infosystem Pvt. Ltd   \n",
       "3                      Onboard HRServices LLP   \n",
       "4  Spire Technologies and Solutions Pvt. Ltd.   \n",
       "\n",
       "                                           education   experience  \\\n",
       "0  UG: B.Tech/B.E. - Any Specialization PG:Any Po...    0 - 1 yrs   \n",
       "1  UG: B.Tech/B.E. - Any Specialization PG:MBA/PG...    0 - 0 yrs   \n",
       "2  UG: Any Graduate - Any Specialization PG:Any P...    4 - 8 yrs   \n",
       "3  UG: Any Graduate - Any Specialization PG:CA Do...  11 - 15 yrs   \n",
       "4  UG: B.Tech/B.E. - Any Specialization PG:Any Po...    6 - 8 yrs   \n",
       "\n",
       "                                   industry  \\\n",
       "0          Media / Entertainment / Internet   \n",
       "1  Advertising / PR / MR / Event Management   \n",
       "2           IT-Software / Software Services   \n",
       "3    Banking / Financial Services / Broking   \n",
       "4           IT-Software / Software Services   \n",
       "\n",
       "                                      jobdescription         jobid  \\\n",
       "0  Job Description   Send me Jobs like this Quali...  210516002263   \n",
       "1  Job Description   Send me Jobs like this Quali...  210516002391   \n",
       "2  Job Description   Send me Jobs like this - as ...  101016900534   \n",
       "3  Job Description   Send me Jobs like this - Inv...   81016900536   \n",
       "4  Job Description   Send me Jobs like this Pleas...  120916002122   \n",
       "\n",
       "                                 joblocation_address  \\\n",
       "0                                            Chennai   \n",
       "1                                            Chennai   \n",
       "2                                          Bengaluru   \n",
       "3  Mumbai, Bengaluru, Kolkata, Chennai, Coimbator...   \n",
       "4                                          Bengaluru   \n",
       "\n",
       "                                   jobtitle  numberofpositions  \\\n",
       "0  Walkin Data Entry Operator (night Shift)                NaN   \n",
       "1        Work Based Onhome Based Part Time.               60.0   \n",
       "2                    Pl/sql Developer - SQL                NaN   \n",
       "3    Manager/ad/partner - Indirect Tax - CA                NaN   \n",
       "4           JAVA Technical Lead (6-8 yrs) -                4.0   \n",
       "\n",
       "                          payrate                   postdate site_name  \\\n",
       "0         1,50,000 - 2,25,000 P.A  2016-05-21 19:30:00 +0000       NaN   \n",
       "1  1,50,000 - 2,50,000 P.A. 20000  2016-05-21 19:30:00 +0000       NaN   \n",
       "2      Not Disclosed by Recruiter  2016-10-13 16:20:55 +0000       NaN   \n",
       "3      Not Disclosed by Recruiter  2016-10-13 16:20:55 +0000       NaN   \n",
       "4      Not Disclosed by Recruiter  2016-10-13 16:20:55 +0000       NaN   \n",
       "\n",
       "                                  skills                           uniq_id  \n",
       "0                                   ITES  43b19632647068535437c774b6ca6cf8  \n",
       "1                              Marketing  d4c72325e57f89f364812b5ed5a795f0  \n",
       "2  IT Software - Application Programming  c47df6f4cfdf5b46f1fd713ba61b9eba  \n",
       "3                               Accounts  115d28f140f694dd1cc61c53d03c66ae  \n",
       "4  IT Software - Application Programming  a12553fc03bc7bcced8b1bb8963f97b4  "
      ]
     },
     "execution_count": 1,
     "metadata": {},
     "output_type": "execute_result"
    }
   ],
   "source": [
    "import pandas as pd\n",
    "import numpy as np\n",
    "\n",
    "df = pd.read_csv('naukri_com-job_sample.csv')\n",
    "df.head()"
   ]
  },
  {
   "cell_type": "code",
   "execution_count": 2,
   "metadata": {},
   "outputs": [
    {
     "data": {
      "text/plain": [
       "(22000, 14)"
      ]
     },
     "execution_count": 2,
     "metadata": {},
     "output_type": "execute_result"
    }
   ],
   "source": [
    "df.shape"
   ]
  },
  {
   "cell_type": "code",
   "execution_count": 3,
   "metadata": {},
   "outputs": [
    {
     "data": {
      "text/html": [
       "<div>\n",
       "<style scoped>\n",
       "    .dataframe tbody tr th:only-of-type {\n",
       "        vertical-align: middle;\n",
       "    }\n",
       "\n",
       "    .dataframe tbody tr th {\n",
       "        vertical-align: top;\n",
       "    }\n",
       "\n",
       "    .dataframe thead th {\n",
       "        text-align: right;\n",
       "    }\n",
       "</style>\n",
       "<table border=\"1\" class=\"dataframe\">\n",
       "  <thead>\n",
       "    <tr style=\"text-align: right;\">\n",
       "      <th></th>\n",
       "      <th>jobid</th>\n",
       "      <th>numberofpositions</th>\n",
       "    </tr>\n",
       "  </thead>\n",
       "  <tbody>\n",
       "    <tr>\n",
       "      <td>count</td>\n",
       "      <td>2.200000e+04</td>\n",
       "      <td>4464.000000</td>\n",
       "    </tr>\n",
       "    <tr>\n",
       "      <td>mean</td>\n",
       "      <td>1.561171e+11</td>\n",
       "      <td>45.116935</td>\n",
       "    </tr>\n",
       "    <tr>\n",
       "      <td>std</td>\n",
       "      <td>9.423956e+10</td>\n",
       "      <td>186.197193</td>\n",
       "    </tr>\n",
       "    <tr>\n",
       "      <td>min</td>\n",
       "      <td>1.011600e+10</td>\n",
       "      <td>1.000000</td>\n",
       "    </tr>\n",
       "    <tr>\n",
       "      <td>25%</td>\n",
       "      <td>6.121650e+10</td>\n",
       "      <td>2.000000</td>\n",
       "    </tr>\n",
       "    <tr>\n",
       "      <td>50%</td>\n",
       "      <td>1.602169e+11</td>\n",
       "      <td>4.000000</td>\n",
       "    </tr>\n",
       "    <tr>\n",
       "      <td>75%</td>\n",
       "      <td>2.502166e+11</td>\n",
       "      <td>10.000000</td>\n",
       "    </tr>\n",
       "    <tr>\n",
       "      <td>max</td>\n",
       "      <td>3.112155e+11</td>\n",
       "      <td>2000.000000</td>\n",
       "    </tr>\n",
       "  </tbody>\n",
       "</table>\n",
       "</div>"
      ],
      "text/plain": [
       "              jobid  numberofpositions\n",
       "count  2.200000e+04        4464.000000\n",
       "mean   1.561171e+11          45.116935\n",
       "std    9.423956e+10         186.197193\n",
       "min    1.011600e+10           1.000000\n",
       "25%    6.121650e+10           2.000000\n",
       "50%    1.602169e+11           4.000000\n",
       "75%    2.502166e+11          10.000000\n",
       "max    3.112155e+11        2000.000000"
      ]
     },
     "execution_count": 3,
     "metadata": {},
     "output_type": "execute_result"
    }
   ],
   "source": [
    "df.describe()"
   ]
  },
  {
   "cell_type": "code",
   "execution_count": 4,
   "metadata": {},
   "outputs": [
    {
     "name": "stdout",
     "output_type": "stream",
     "text": [
      "<class 'pandas.core.frame.DataFrame'>\n",
      "RangeIndex: 22000 entries, 0 to 21999\n",
      "Data columns (total 14 columns):\n",
      "company                21996 non-null object\n",
      "education              20004 non-null object\n",
      "experience             21996 non-null object\n",
      "industry               21995 non-null object\n",
      "jobdescription         21996 non-null object\n",
      "jobid                  22000 non-null int64\n",
      "joblocation_address    21499 non-null object\n",
      "jobtitle               22000 non-null object\n",
      "numberofpositions      4464 non-null float64\n",
      "payrate                21903 non-null object\n",
      "postdate               21977 non-null object\n",
      "site_name              3987 non-null object\n",
      "skills                 21472 non-null object\n",
      "uniq_id                22000 non-null object\n",
      "dtypes: float64(1), int64(1), object(12)\n",
      "memory usage: 2.3+ MB\n"
     ]
    }
   ],
   "source": [
    "df.info()"
   ]
  },
  {
   "cell_type": "code",
   "execution_count": 5,
   "metadata": {},
   "outputs": [],
   "source": [
    "df['company'] = df['company'].astype(str)\n",
    "df['education'] = df['education'].astype(str)\n",
    "df['experience'] = df['experience'].astype(str)\n",
    "df['industry'] = df['industry'].astype(str)\n",
    "df['jobdescription'] = df['jobdescription'].astype(str)\n",
    "df['jobid'] = df['jobid'].astype(str)\n",
    "df['joblocation_address'] = df['joblocation_address'].astype(str)\n",
    "df['jobtitle'] = df['jobtitle'].astype(str)\n",
    "df['numberofpositions'] = df['numberofpositions'].astype(str)\n",
    "df['payrate'] = df['payrate'].astype(str)\n",
    "df['postdate'] = df['postdate'].astype(str)\n",
    "df['site_name'] = df['site_name'].astype(str)\n",
    "df['skills'] = df['skills'].astype(str)\n",
    "df['uniq_id'] = df['uniq_id'].astype(str)"
   ]
  },
  {
   "cell_type": "code",
   "execution_count": 6,
   "metadata": {
    "scrolled": true
   },
   "outputs": [
    {
     "name": "stdout",
     "output_type": "stream",
     "text": [
      "<class 'pandas.core.frame.DataFrame'>\n",
      "RangeIndex: 22000 entries, 0 to 21999\n",
      "Data columns (total 14 columns):\n",
      "company                22000 non-null object\n",
      "education              22000 non-null object\n",
      "experience             22000 non-null object\n",
      "industry               22000 non-null object\n",
      "jobdescription         22000 non-null object\n",
      "jobid                  22000 non-null object\n",
      "joblocation_address    22000 non-null object\n",
      "jobtitle               22000 non-null object\n",
      "numberofpositions      22000 non-null object\n",
      "payrate                22000 non-null object\n",
      "postdate               22000 non-null object\n",
      "site_name              22000 non-null object\n",
      "skills                 22000 non-null object\n",
      "uniq_id                22000 non-null object\n",
      "dtypes: object(14)\n",
      "memory usage: 2.3+ MB\n"
     ]
    }
   ],
   "source": [
    "df.info()"
   ]
  },
  {
   "cell_type": "code",
   "execution_count": 7,
   "metadata": {},
   "outputs": [],
   "source": [
    "from sklearn.preprocessing import LabelEncoder\n",
    "\n",
    "# convert str values to int using the scikit-learn encoder\n",
    "\n",
    "st = df.apply(LabelEncoder().fit_transform)\n",
    "\n",
    "st.head()\n",
    "df = st"
   ]
  },
  {
   "cell_type": "code",
   "execution_count": 8,
   "metadata": {},
   "outputs": [],
   "source": [
    "X = df.iloc[:,:-1].values\n",
    "y = df.iloc[:,1].values"
   ]
  },
  {
   "cell_type": "code",
   "execution_count": 9,
   "metadata": {},
   "outputs": [
    {
     "data": {
      "text/plain": [
       "array([[4286, 1239,    1, ..., 2907,    0,   29],\n",
       "       [8267, 1301,    0, ..., 2907,    0,   32],\n",
       "       [6684,   85,  113, ..., 3319,    0,   14],\n",
       "       ...,\n",
       "       [4685, 1244,   87, ..., 3743,    1,   14],\n",
       "       [1628, 1336,  130, ..., 3761,    1,   14],\n",
       "       [1309, 1334,  115, ..., 3743,    1,   25]])"
      ]
     },
     "execution_count": 9,
     "metadata": {},
     "output_type": "execute_result"
    }
   ],
   "source": [
    "X"
   ]
  },
  {
   "cell_type": "code",
   "execution_count": 10,
   "metadata": {
    "scrolled": true
   },
   "outputs": [
    {
     "data": {
      "text/plain": [
       "array([1239, 1301,   85, ..., 1244, 1336, 1334])"
      ]
     },
     "execution_count": 10,
     "metadata": {},
     "output_type": "execute_result"
    }
   ],
   "source": [
    "y"
   ]
  },
  {
   "cell_type": "code",
   "execution_count": 11,
   "metadata": {},
   "outputs": [],
   "source": [
    "from sklearn.model_selection import train_test_split\n",
    "X_train, X_test, y_train, y_test = train_test_split(X,y, test_size = 1/3, random_state = 0)"
   ]
  },
  {
   "cell_type": "code",
   "execution_count": 12,
   "metadata": {},
   "outputs": [
    {
     "data": {
      "text/plain": [
       "LinearRegression(copy_X=True, fit_intercept=True, n_jobs=None, normalize=False)"
      ]
     },
     "execution_count": 12,
     "metadata": {},
     "output_type": "execute_result"
    }
   ],
   "source": [
    "from sklearn.linear_model import LinearRegression\n",
    "regressor = LinearRegression()\n",
    "regressor.fit(X_train, y_train)"
   ]
  },
  {
   "cell_type": "code",
   "execution_count": 13,
   "metadata": {},
   "outputs": [],
   "source": [
    "y_pred = regressor.predict(X_test)"
   ]
  },
  {
   "cell_type": "code",
   "execution_count": 14,
   "metadata": {},
   "outputs": [
    {
     "name": "stdout",
     "output_type": "stream",
     "text": [
      "3.80093874115059e-24\n",
      "1.0\n"
     ]
    }
   ],
   "source": [
    "from sklearn.metrics import mean_squared_error , r2_score\n",
    "mse = mean_squared_error(y_test,y_pred)\n",
    "r_squared = r2_score(y_test,y_pred)\n",
    "print(mse)\n",
    "print(r_squared)"
   ]
  },
  {
   "cell_type": "code",
   "execution_count": 15,
   "metadata": {},
   "outputs": [
    {
     "data": {
      "text/html": [
       "<table class=\"simpletable\">\n",
       "<caption>OLS Regression Results</caption>\n",
       "<tr>\n",
       "  <th>Dep. Variable:</th>            <td>y</td>        <th>  R-squared:         </th>  <td>   1.000</td> \n",
       "</tr>\n",
       "<tr>\n",
       "  <th>Model:</th>                   <td>OLS</td>       <th>  Adj. R-squared:    </th>  <td>   1.000</td> \n",
       "</tr>\n",
       "<tr>\n",
       "  <th>Method:</th>             <td>Least Squares</td>  <th>  F-statistic:       </th>  <td>2.608e+32</td>\n",
       "</tr>\n",
       "<tr>\n",
       "  <th>Date:</th>             <td>Thu, 12 Dec 2019</td> <th>  Prob (F-statistic):</th>   <td>  0.00</td>  \n",
       "</tr>\n",
       "<tr>\n",
       "  <th>Time:</th>                 <td>18:36:50</td>     <th>  Log-Likelihood:    </th> <td>3.7638e+05</td>\n",
       "</tr>\n",
       "<tr>\n",
       "  <th>No. Observations:</th>      <td> 14666</td>      <th>  AIC:               </th> <td>-7.527e+05</td>\n",
       "</tr>\n",
       "<tr>\n",
       "  <th>Df Residuals:</th>          <td> 14652</td>      <th>  BIC:               </th> <td>-7.526e+05</td>\n",
       "</tr>\n",
       "<tr>\n",
       "  <th>Df Model:</th>              <td>    13</td>      <th>                     </th>      <td> </td>    \n",
       "</tr>\n",
       "<tr>\n",
       "  <th>Covariance Type:</th>      <td>nonrobust</td>    <th>                     </th>      <td> </td>    \n",
       "</tr>\n",
       "</table>\n",
       "<table class=\"simpletable\">\n",
       "<tr>\n",
       "    <td></td>       <th>coef</th>     <th>std err</th>      <th>t</th>      <th>P>|t|</th>  <th>[0.025</th>    <th>0.975]</th>  \n",
       "</tr>\n",
       "<tr>\n",
       "  <th>const</th> <td>-3.411e-13</td> <td> 9.53e-14</td> <td>   -3.580</td> <td> 0.000</td> <td>-5.28e-13</td> <td>-1.54e-13</td>\n",
       "</tr>\n",
       "<tr>\n",
       "  <th>x1</th>    <td> 3.556e-17</td> <td> 5.96e-18</td> <td>    5.970</td> <td> 0.000</td> <td> 2.39e-17</td> <td> 4.72e-17</td>\n",
       "</tr>\n",
       "<tr>\n",
       "  <th>x2</th>    <td>    1.0000</td> <td> 1.82e-17</td> <td> 5.51e+16</td> <td> 0.000</td> <td>    1.000</td> <td>    1.000</td>\n",
       "</tr>\n",
       "<tr>\n",
       "  <th>x3</th>    <td> 4.455e-15</td> <td> 3.22e-16</td> <td>   13.835</td> <td> 0.000</td> <td> 3.82e-15</td> <td> 5.09e-15</td>\n",
       "</tr>\n",
       "<tr>\n",
       "  <th>x4</th>    <td> 1.144e-14</td> <td> 1.04e-15</td> <td>   11.039</td> <td> 0.000</td> <td>  9.4e-15</td> <td> 1.35e-14</td>\n",
       "</tr>\n",
       "<tr>\n",
       "  <th>x5</th>    <td>-6.755e-17</td> <td> 2.35e-18</td> <td>  -28.699</td> <td> 0.000</td> <td>-7.22e-17</td> <td>-6.29e-17</td>\n",
       "</tr>\n",
       "<tr>\n",
       "  <th>x6</th>    <td> 9.606e-17</td> <td> 2.33e-18</td> <td>   41.183</td> <td> 0.000</td> <td> 9.15e-17</td> <td> 1.01e-16</td>\n",
       "</tr>\n",
       "<tr>\n",
       "  <th>x7</th>    <td>-8.101e-16</td> <td>  2.2e-17</td> <td>  -36.800</td> <td> 0.000</td> <td>-8.53e-16</td> <td>-7.67e-16</td>\n",
       "</tr>\n",
       "<tr>\n",
       "  <th>x8</th>    <td> 4.169e-17</td> <td> 2.84e-18</td> <td>   14.677</td> <td> 0.000</td> <td> 3.61e-17</td> <td> 4.73e-17</td>\n",
       "</tr>\n",
       "<tr>\n",
       "  <th>x9</th>    <td>  2.29e-15</td> <td> 5.81e-16</td> <td>    3.940</td> <td> 0.000</td> <td> 1.15e-15</td> <td> 3.43e-15</td>\n",
       "</tr>\n",
       "<tr>\n",
       "  <th>x10</th>   <td>-4.545e-16</td> <td> 3.71e-17</td> <td>  -12.237</td> <td> 0.000</td> <td>-5.27e-16</td> <td>-3.82e-16</td>\n",
       "</tr>\n",
       "<tr>\n",
       "  <th>x11</th>   <td>-8.934e-17</td> <td> 1.51e-17</td> <td>   -5.921</td> <td> 0.000</td> <td>-1.19e-16</td> <td>-5.98e-17</td>\n",
       "</tr>\n",
       "<tr>\n",
       "  <th>x12</th>   <td>-6.395e-14</td> <td> 5.44e-14</td> <td>   -1.176</td> <td> 0.239</td> <td> -1.7e-13</td> <td> 4.26e-14</td>\n",
       "</tr>\n",
       "<tr>\n",
       "  <th>x13</th>   <td>-4.163e-16</td> <td>  1.2e-15</td> <td>   -0.346</td> <td> 0.730</td> <td>-2.78e-15</td> <td> 1.94e-15</td>\n",
       "</tr>\n",
       "</table>\n",
       "<table class=\"simpletable\">\n",
       "<tr>\n",
       "  <th>Omnibus:</th>       <td>397.218</td> <th>  Durbin-Watson:     </th> <td>   1.063</td>\n",
       "</tr>\n",
       "<tr>\n",
       "  <th>Prob(Omnibus):</th> <td> 0.000</td>  <th>  Jarque-Bera (JB):  </th> <td> 215.072</td>\n",
       "</tr>\n",
       "<tr>\n",
       "  <th>Skew:</th>          <td> 0.111</td>  <th>  Prob(JB):          </th> <td>1.98e-47</td>\n",
       "</tr>\n",
       "<tr>\n",
       "  <th>Kurtosis:</th>      <td> 2.450</td>  <th>  Cond. No.          </th> <td>1.30e+05</td>\n",
       "</tr>\n",
       "</table><br/><br/>Warnings:<br/>[1] Standard Errors assume that the covariance matrix of the errors is correctly specified.<br/>[2] The condition number is large, 1.3e+05. This might indicate that there are<br/>strong multicollinearity or other numerical problems."
      ],
      "text/plain": [
       "<class 'statsmodels.iolib.summary.Summary'>\n",
       "\"\"\"\n",
       "                            OLS Regression Results                            \n",
       "==============================================================================\n",
       "Dep. Variable:                      y   R-squared:                       1.000\n",
       "Model:                            OLS   Adj. R-squared:                  1.000\n",
       "Method:                 Least Squares   F-statistic:                 2.608e+32\n",
       "Date:                Thu, 12 Dec 2019   Prob (F-statistic):               0.00\n",
       "Time:                        18:36:50   Log-Likelihood:             3.7638e+05\n",
       "No. Observations:               14666   AIC:                        -7.527e+05\n",
       "Df Residuals:                   14652   BIC:                        -7.526e+05\n",
       "Df Model:                          13                                         \n",
       "Covariance Type:            nonrobust                                         \n",
       "==============================================================================\n",
       "                 coef    std err          t      P>|t|      [0.025      0.975]\n",
       "------------------------------------------------------------------------------\n",
       "const      -3.411e-13   9.53e-14     -3.580      0.000   -5.28e-13   -1.54e-13\n",
       "x1          3.556e-17   5.96e-18      5.970      0.000    2.39e-17    4.72e-17\n",
       "x2             1.0000   1.82e-17   5.51e+16      0.000       1.000       1.000\n",
       "x3          4.455e-15   3.22e-16     13.835      0.000    3.82e-15    5.09e-15\n",
       "x4          1.144e-14   1.04e-15     11.039      0.000     9.4e-15    1.35e-14\n",
       "x5         -6.755e-17   2.35e-18    -28.699      0.000   -7.22e-17   -6.29e-17\n",
       "x6          9.606e-17   2.33e-18     41.183      0.000    9.15e-17    1.01e-16\n",
       "x7         -8.101e-16    2.2e-17    -36.800      0.000   -8.53e-16   -7.67e-16\n",
       "x8          4.169e-17   2.84e-18     14.677      0.000    3.61e-17    4.73e-17\n",
       "x9           2.29e-15   5.81e-16      3.940      0.000    1.15e-15    3.43e-15\n",
       "x10        -4.545e-16   3.71e-17    -12.237      0.000   -5.27e-16   -3.82e-16\n",
       "x11        -8.934e-17   1.51e-17     -5.921      0.000   -1.19e-16   -5.98e-17\n",
       "x12        -6.395e-14   5.44e-14     -1.176      0.239    -1.7e-13    4.26e-14\n",
       "x13        -4.163e-16    1.2e-15     -0.346      0.730   -2.78e-15    1.94e-15\n",
       "==============================================================================\n",
       "Omnibus:                      397.218   Durbin-Watson:                   1.063\n",
       "Prob(Omnibus):                  0.000   Jarque-Bera (JB):              215.072\n",
       "Skew:                           0.111   Prob(JB):                     1.98e-47\n",
       "Kurtosis:                       2.450   Cond. No.                     1.30e+05\n",
       "==============================================================================\n",
       "\n",
       "Warnings:\n",
       "[1] Standard Errors assume that the covariance matrix of the errors is correctly specified.\n",
       "[2] The condition number is large, 1.3e+05. This might indicate that there are\n",
       "strong multicollinearity or other numerical problems.\n",
       "\"\"\""
      ]
     },
     "execution_count": 15,
     "metadata": {},
     "output_type": "execute_result"
    }
   ],
   "source": [
    "import statsmodels\n",
    "import statsmodels.api as smf\n",
    "regressorlm = X_train \n",
    "regressorlm = smf.add_constant(regressorlm)\n",
    "# create a fitting model in one time\n",
    "regressorlm=smf.OLS(y_train,regressorlm).fit()\n",
    "regressorlm.summary()"
   ]
  },
  {
   "cell_type": "code",
   "execution_count": 16,
   "metadata": {},
   "outputs": [
    {
     "data": {
      "text/plain": [
       "6.821210263296962e-13"
      ]
     },
     "execution_count": 16,
     "metadata": {},
     "output_type": "execute_result"
    }
   ],
   "source": [
    "regressor.intercept_"
   ]
  },
  {
   "cell_type": "code",
   "execution_count": 17,
   "metadata": {},
   "outputs": [
    {
     "data": {
      "text/plain": [
       "array([-4.46495415e-18,  1.00000000e+00,  7.50849543e-16, -2.65790239e-15,\n",
       "        1.97755046e-16, -1.89274410e-16, -3.17320845e-17, -6.71303525e-17,\n",
       "       -1.54561803e-16, -7.28031916e-16,  2.45190056e-17,  9.05156548e-16,\n",
       "        8.18406728e-17])"
      ]
     },
     "execution_count": 17,
     "metadata": {},
     "output_type": "execute_result"
    }
   ],
   "source": [
    "regressor.coef_"
   ]
  }
 ],
 "metadata": {
  "kernelspec": {
   "display_name": "Python 3",
   "language": "python",
   "name": "python3"
  },
  "language_info": {
   "codemirror_mode": {
    "name": "ipython",
    "version": 3
   },
   "file_extension": ".py",
   "mimetype": "text/x-python",
   "name": "python",
   "nbconvert_exporter": "python",
   "pygments_lexer": "ipython3",
   "version": "3.7.4"
  }
 },
 "nbformat": 4,
 "nbformat_minor": 2
}
